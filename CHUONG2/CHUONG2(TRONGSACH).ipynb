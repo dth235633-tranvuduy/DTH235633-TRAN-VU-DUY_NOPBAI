{
 "cells": [
  {
   "cell_type": "markdown",
   "id": "ee4b3e4d",
   "metadata": {},
   "source": []
  },
  {
   "cell_type": "markdown",
   "id": "e2e5ad49",
   "metadata": {},
   "source": [
    "Bài Tập: CHƯƠNG 2 TRONG SÁCH\n",
    "\n",
    "\n"
   ]
  },
  {
   "cell_type": "markdown",
   "id": "368c816c",
   "metadata": {},
   "source": [
    "Câu 1:"
   ]
  },
  {
   "cell_type": "code",
   "execution_count": 1,
   "id": "dbc1018f",
   "metadata": {},
   "outputs": [
    {
     "name": "stdout",
     "output_type": "stream",
     "text": [
      "Tổng số tiền của người A sau 18 tháng là:  13.343215872\n"
     ]
    }
   ],
   "source": [
    "#Tính lãi suất sau 18 tháng\n",
    "a = float(input(\"Nhập số tiền của người A: \"))\n",
    "laisuat = 0.6/100\n",
    "sothang = 18\n",
    "for i in range(6, sothang+1, 6):\n",
    "    lai = a * laisuat * 6\n",
    "    a = a + lai\n",
    "print(\"Tổng số tiền của người A sau 18 tháng là: \", a)"
   ]
  },
  {
   "cell_type": "markdown",
   "id": "a988199d",
   "metadata": {},
   "source": [
    "Câu 2:"
   ]
  },
  {
   "cell_type": "code",
   "execution_count": 2,
   "id": "106da22f",
   "metadata": {},
   "outputs": [
    {
     "name": "stdout",
     "output_type": "stream",
     "text": [
      "Ký tự ch không phải là một toán tử!\n"
     ]
    }
   ],
   "source": [
    "#Tính a + b, a - b, a * b, a / b\n",
    "a = float(input(\"Nhập số a: \"))\n",
    "b = float(input(\"Nhập số b: \"))\n",
    "ch = input(\"Nhập ký tự ch: \")\n",
    "if( ch == '+'):\n",
    "    print(\"Kết quả là: \", a + b)\n",
    "elif( ch == '_'):\n",
    "    print(\"Kết quả là: \", a - b)\n",
    "elif(ch == '*'):\n",
    "    print(\"Kết quả là: \", a * b)\n",
    "elif(ch == '/'):\n",
    "    print(\"Kết quả là: \", a / b)\n",
    "else:\n",
    "    print(\"Ký tự ch không phải là một toán tử!\")"
   ]
  },
  {
   "cell_type": "markdown",
   "id": "986bcd3c",
   "metadata": {},
   "source": [
    "Câu 3:"
   ]
  },
  {
   "cell_type": "code",
   "execution_count": 3,
   "id": "5b3087bb",
   "metadata": {},
   "outputs": [
    {
     "name": "stdout",
     "output_type": "stream",
     "text": [
      "Chu vi hình tròn là:  6.283185307179586\n",
      "Diện tích hình tròn là:  3.141592653589793\n"
     ]
    }
   ],
   "source": [
    "#Tính chu vi và diện tích hình tròn\n",
    "import math\n",
    "try:\n",
    "    r  = float(input(\"Nhập bán kính hình tròn: \"))\n",
    "    cv = 2 * math.pi * r\n",
    "    dt = math.pi * r * r\n",
    "    print(\"Chu vi hình tròn là: \", cv)\n",
    "    print(\"Diện tích hình tròn là: \", dt)\n",
    "except:\n",
    "    print(\"Lỗi rồi!\")"
   ]
  },
  {
   "cell_type": "markdown",
   "id": "7a7058a0",
   "metadata": {},
   "source": [
    "Câu 4:"
   ]
  },
  {
   "cell_type": "code",
   "execution_count": 4,
   "id": "9985e548",
   "metadata": {},
   "outputs": [
    {
     "name": "stdout",
     "output_type": "stream",
     "text": [
      "Tháng 1 có 31 ngày\n"
     ]
    }
   ],
   "source": [
    "#Tính số ngày trong tháng\n",
    "n = 0\n",
    "while True:\n",
    "    n = int(input(\"Nhập vào một tháng(1-12): \"))\n",
    "    if n < 1 or n > 12:\n",
    "        print(\"Nhập sai! Nhập lại\")\n",
    "    else:\n",
    "        break\n",
    "if n in [1, 3, 5, 7, 8, 10, 12]:\n",
    "    print(\"Tháng\", n,\"có 31 ngày\")\n",
    "elif n in [4, 6, 9, 11]:\n",
    "    print(\"Tháng\", n,\"có 30 ngày\")\n",
    "else:\n",
    "    nam = int(input(\"Nhập vào một năm: \"))\n",
    "    if(nam % 4 == 0 and nam % 100 !=0) or (nam % 400 == 0):\n",
    "        print(\"Tháng 2 năm\", nam,\"có 29 ngày\")\n",
    "    else:\n",
    "        print(\"Tháng 2 năm\", nam,\"có 28 ngày\")"
   ]
  },
  {
   "cell_type": "markdown",
   "id": "20886c16",
   "metadata": {},
   "source": [
    "Câu 5:"
   ]
  },
  {
   "cell_type": "code",
   "execution_count": 5,
   "id": "665c9221",
   "metadata": {},
   "outputs": [
    {
     "name": "stdout",
     "output_type": "stream",
     "text": [
      "một\n"
     ]
    }
   ],
   "source": [
    "#Đọc số có tối đa 2 chữ số\n",
    "n = 0\n",
    "while True:\n",
    "    n = int(input(\"Nhập số nguyên n có tối đa 2 chữ số: \"))\n",
    "    if n < 0 or n > 99:\n",
    "        print(\"Nhập sai! Nhập lại\")\n",
    "    else:\n",
    "        break\n",
    "so = [\"không\", \"một\", \"hai\", \"ba\", \"bốn\", \"năm\", \"sáu\", \"bảy\", \"tám\", \"chín\"]\n",
    "chuc = [\"\",\"mười\", \"hai mươi\", \"ba mươi\", \"bốn mươi\", \"năm mươi\", \"súa mươi\", \"bảy mươi\", \"tám mươi\", \"chín mươi\"]\n",
    "if n < 10:\n",
    "    print(so[n])\n",
    "else:\n",
    "    donvi = n % 10\n",
    "    hangchuc = n // 10\n",
    "    if donvi == 1:\n",
    "        print(chuc[hangchuc], \"mốt\")\n",
    "    elif donvi == 5:\n",
    "        print(chuc[hangchuc], \"lăm\")\n",
    "    elif donvi == 0:\n",
    "        print(chuc[hangchuc])\n",
    "    else:\n",
    "        print(chuc[hangchuc], so[donvi])"
   ]
  },
  {
   "cell_type": "markdown",
   "id": "01435046",
   "metadata": {},
   "source": [
    "Câu 6:"
   ]
  },
  {
   "cell_type": "code",
   "execution_count": 7,
   "id": "178b4cd9",
   "metadata": {},
   "outputs": [
    {
     "name": "stdout",
     "output_type": "stream",
     "text": [
      "Kết quả chương tình:\n",
      "Phương trình vô nghiệm!\n"
     ]
    }
   ],
   "source": [
    "#Giải phương trình bậc hai\n",
    "import math\n",
    "def TinhPhuongTrinhBacHai(a, b, c):\n",
    "    if a == 0:\n",
    "        if b == 0:\n",
    "            if c == 0:\n",
    "                print(\"Phương trình có vô số nghiệm!\")\n",
    "            else:\n",
    "                print(\"Phương trình vô nghiệm!\")\n",
    "        else:\n",
    "            print(\"Phương trình có một nghiệm: x =\", -c/b)\n",
    "    else:\n",
    "        delta = b*b - 4 * a * c \n",
    "        if delta < 0:\n",
    "            print(\"Phương trình vô nghiệm!\")\n",
    "        elif delta == 0:\n",
    "            print(\"Phương trình có nghiệm kép: x1 = x2 =\", -b/(2*a))\n",
    "        else:\n",
    "            x1 = (-b + math.sqrt(delta)) / (2*a)\n",
    "            x2 = (-b - math.sqrt(delta)) / (2*a)\n",
    "            print(\"Phương trình có hai nghiệm phân biệt: x1 =\", x1,\" x2 =\", x2)\n",
    "\n",
    "a = float(input(\"Nhập hệ số a: \"))\n",
    "b = float(input(\"Nhập hệ số b: \"))\n",
    "c = float(input(\"Nhập hệ số c: \"))\n",
    "print(\"Kết quả chương tình:\")\n",
    "TinhPhuongTrinhBacHai(a, b, c)"
   ]
  },
  {
   "cell_type": "markdown",
   "id": "152aa88c",
   "metadata": {},
   "source": [
    "Câu 7:"
   ]
  },
  {
   "cell_type": "code",
   "execution_count": null,
   "id": "e5165370",
   "metadata": {},
   "outputs": [],
   "source": [
    "#Tính n + n2 + n3\n",
    "n = int(input(\"Nhập số nguyên n: \"))\n",
    "a = n + n*2 + n*3\n",
    "print(\"Kết quả là: \", a)"
   ]
  },
  {
   "cell_type": "markdown",
   "id": "4731c517",
   "metadata": {},
   "source": [
    "Câu 8:"
   ]
  },
  {
   "cell_type": "code",
   "execution_count": null,
   "id": "b59446b3",
   "metadata": {},
   "outputs": [],
   "source": [
    "#Bảng cửu chương (1 < n < 9)\n",
    "def TinhBangCuuChuong(n):\n",
    "    for i in range(1, 11, 1):\n",
    "        print(f\"{n} x {i} = {n*i}\")\n",
    "n = 0\n",
    "while True:\n",
    "    n = int(input(\"Nhập bảng cửu chương (1 < n < 9): \"))\n",
    "    if n < 1 or n > 9:\n",
    "        print(\"Nhập sai! Nhập lại!\")\n",
    "    else:\n",
    "        break\n",
    "TinhBangCuuChuong(n)\n",
    "\n"
   ]
  },
  {
   "cell_type": "markdown",
   "id": "b1facd81",
   "metadata": {},
   "source": [
    "Câu 9:"
   ]
  },
  {
   "cell_type": "code",
   "execution_count": null,
   "id": "abaca4bb",
   "metadata": {},
   "outputs": [],
   "source": [
    "#Tính các tổng\n",
    "n = int(input(\"Nhập số nguyên n: \"))\n",
    "S1, S2, S3, S4, S5 = 0, 0, 0, 0, 0\n",
    "\n",
    "print(\"- S = 1 + 2 + ... + n\")\n",
    "for i in range(1, n + 1, 1):\n",
    "    S1 = S1 + i\n",
    "print(\"Kết quả S =\", S1)\n",
    "\n",
    "print(\"- S = 1 + 3 + ... + (2n - 1)\")\n",
    "for i in range(1, n + 1, 1):\n",
    "    S2 = S2 + (2*i - 1)\n",
    "print(\"Kết quả S =\", S2)\n",
    "\n",
    "print(\"- S = 2 + 4 + ... + 2n\")\n",
    "for i in range(1, n + 1, 1):\n",
    "    S3 = S3 + 2*i\n",
    "print(\"Kết quả S =\", S3)\n",
    "\n",
    "print(\"- S = 1^2 + 2^2 + ... + n^2\")\n",
    "for i in range(1, n + 1, 1):\n",
    "    S4 = S4 + i*i\n",
    "print(\"Kết quả S =\", S4)\n",
    "\n",
    "print(\"- S = 1/1 + 1/2 + ... + 1/n\")\n",
    "for i in range(1, n + 1, 1):\n",
    "    S5 = S5 + 1/i\n",
    "print(\"Kết quả S =\", S5)"
   ]
  },
  {
   "cell_type": "markdown",
   "id": "c889c4f2",
   "metadata": {},
   "source": [
    "Câu 10:"
   ]
  },
  {
   "cell_type": "code",
   "execution_count": null,
   "id": "20d285d1",
   "metadata": {},
   "outputs": [],
   "source": [
    "#In bảng cửu chương từ 2 đến 9\n",
    "for i in range(1, 11, 1):\n",
    "    for j in range(2, 10, 1):\n",
    "        print(f\"{j} x {i} = {i * j}\", end=\"\\t\")\n",
    "    print()"
   ]
  },
  {
   "cell_type": "markdown",
   "id": "366b268a",
   "metadata": {},
   "source": [
    "Câu 11:"
   ]
  },
  {
   "cell_type": "code",
   "execution_count": null,
   "id": "acf32513",
   "metadata": {},
   "outputs": [],
   "source": [
    "#Tính S(x,n) = x + x^2/2! + x^3/3! + ... + x^n/n!\n",
    "def GiaiThua(n):\n",
    "    if n == 0 or n == 1:\n",
    "        return 1\n",
    "    else:\n",
    "        return n * GiaiThua(n - 1)\n",
    "\n",
    "def S(x, n):\n",
    "    Sum = 0\n",
    "    for i in range(1, n + 1, 1):\n",
    "        Sum = Sum + (x**i /GiaiThua(i) )\n",
    "    return Sum\n",
    "\n",
    "x = int(input(\"Nhập số nguyên x: \"))\n",
    "n = int(input(\"Nhập số nguyên n: \"))\n",
    "print(\"Kết quả S(x,n) =\", S(x, n)) "
   ]
  },
  {
   "cell_type": "markdown",
   "id": "bed38aa4",
   "metadata": {},
   "source": [
    "Câu 12:\n"
   ]
  },
  {
   "cell_type": "code",
   "execution_count": null,
   "id": "f746c02b",
   "metadata": {},
   "outputs": [],
   "source": [
    "# Đổi số nguyên hệ thập phân sang số nhị phân\n",
    "n = int(input(\"Nhập số nguyên hệ thập phân: \"))\n",
    "print(\"Số nhị phân là:\", bin(n)[2:])"
   ]
  },
  {
   "cell_type": "markdown",
   "id": "a0137b94",
   "metadata": {},
   "source": [
    "Câu 13:"
   ]
  },
  {
   "cell_type": "code",
   "execution_count": null,
   "id": "45b28ee5",
   "metadata": {},
   "outputs": [],
   "source": [
    "#Giải phương trình bậc hai với điều kiện a khác 0\n",
    "import math\n",
    "def Nhap():\n",
    "    while True:\n",
    "        a = float(input(\"Nhập hệ số a: \"))\n",
    "        if a !=0:\n",
    "            return a\n",
    "        else:\n",
    "            print(\"Hệ số a khoong được bằng không! Nhập lại!\")\n",
    "\n",
    "def TinhPhuongTrinhBacHai(a, b, c):\n",
    "    delta = b*b - 4 * a * c \n",
    "    if delta < 0:\n",
    "         print(\"Phương trình vô nghiệm!\")\n",
    "    elif delta == 0:\n",
    "        print(\"Phương trình có nghiệm kép: x1 = x2 =\", -b/(2*a))\n",
    "    else:\n",
    "        x1 = (-b + math.sqrt(delta)) / (2*a)\n",
    "        x2 = (-b - math.sqrt(delta)) / (2*a)\n",
    "        print(\"Phương trình có hai nghiệm phân biệt: x1 =\", x1,\" x2 =\", x2)\n",
    "\n",
    "a = Nhap()\n",
    "b = float(input(\"Nhập hệ số b: \"))\n",
    "c = float(input(\"Nhập hệ số c: \"))\n",
    "print(\"Kết quả chương tình:\")\n",
    "TinhPhuongTrinhBacHai(a, b, c)"
   ]
  },
  {
   "cell_type": "markdown",
   "id": "75183d0e",
   "metadata": {},
   "source": [
    "Câu 14:"
   ]
  },
  {
   "cell_type": "code",
   "execution_count": null,
   "id": "a4a3dd42",
   "metadata": {},
   "outputs": [],
   "source": [
    "# Giả sử bạn đến đảo vào thứ Tư (ngày thứ 3 trong tuần, nếu tính từ 0: Chủ nhật)\n",
    "# Sau 137 đêm, bạn về nhà vào ngày thứ mấy?\n",
    "\n",
    "\n",
    "DanhSachThu = [\"Chủ nhật\", \"Thứ hai\", \"Thứ ba\", \"Thứ tư\", \"Thứ năm\", \"Thứ sáu\", \"Thứ bảy\"]\n",
    "SoDem = 137\n",
    "\n",
    "ThuBatDau = 3 \n",
    "ThuVe = (ThuBatDau + SoDem) % 7\n",
    "\n",
    "print(\"Bạn về nhà vào:\", DanhSachThu[ThuVe])"
   ]
  },
  {
   "cell_type": "markdown",
   "id": "12e1facd",
   "metadata": {},
   "source": [
    "Câu 15:"
   ]
  },
  {
   "cell_type": "code",
   "execution_count": null,
   "id": "c58e17c6",
   "metadata": {},
   "outputs": [],
   "source": [
    "#Kiểm tra 3 số a, b, c có thể tạo thành một tam giác hay không\n",
    "def KiemTraTamGiac(a, b, c):\n",
    "    if (a + b > c) and (a + c > b) and (b + c > a):\n",
    "        print(\"Có thể tạo thành một tam giác\")\n",
    "    else:\n",
    "        print(\"Không thể tạo thành một tam giác\")\n",
    "\n",
    "a , b, c = 0, 0, 0\n",
    "while True:\n",
    "    a, b, c = map(float, input(\"Nhập ba số dương a, b, c: \").split(','))\n",
    "    if a > 0 and b > 0 and c > 0:\n",
    "            break\n",
    "    else:\n",
    "         print(\"Tất cả phải là số dương! Nhập lại!\")\n",
    "\n",
    "KiemTraTamGiac(a, b, c)"
   ]
  },
  {
   "cell_type": "markdown",
   "id": "5664e799",
   "metadata": {},
   "source": [
    "Câu 16:"
   ]
  },
  {
   "cell_type": "code",
   "execution_count": null,
   "id": "b99d20aa",
   "metadata": {},
   "outputs": [],
   "source": [
    "# Nhập ngày, tháng, năm từ bàn phím và kiểm tra hợp lệ\n",
    "\n",
    "def KiemTraNgayHopLe(day, month, year):\n",
    "    if year < 1 or month < 1 or month > 12 or day < 1:\n",
    "        return False\n",
    "    \n",
    "    days_in_month = [31, 28, 31, 30, 31, 30, 31, 31, 30, 31, 30, 31]\n",
    "    \n",
    "    if (year % 4 == 0 and year % 100 != 0) or (year % 400 == 0):\n",
    "        days_in_month[1] = 29\n",
    "    if day > days_in_month[month - 1]:\n",
    "        return False\n",
    "    return True\n",
    "\n",
    "\n",
    "day = int(input(\"Nhập ngày: \"))\n",
    "month = int(input(\"Nhập tháng: \"))\n",
    "year = int(input(\"Nhập năm: \"))\n",
    "\n",
    "if KiemTraNgayHopLe(day, month, year):\n",
    "    print(\"Ngày tháng năm hợp lệ.\")\n",
    "else:\n",
    "    print(\"Ngày tháng năm không hợp lệ.\")"
   ]
  },
  {
   "cell_type": "markdown",
   "id": "bc189d76",
   "metadata": {},
   "source": [
    "Câu 17:"
   ]
  },
  {
   "cell_type": "code",
   "execution_count": null,
   "id": "548b316c",
   "metadata": {},
   "outputs": [],
   "source": [
    "# Tính các tổng\n",
    "def NhapSoTuNhien():\n",
    "    while True:\n",
    "        n = int(input(\"Nhập số tự nhiên (n>=0): \"))\n",
    "        if n >= 0:\n",
    "            return n\n",
    "        else:\n",
    "            print(\"Không phải số tự nhiên! Nhập lại!\")\n",
    "\n",
    "def TinhTong(n):\n",
    "    tong = 1\n",
    "    for i in range(1, n+1, 1):\n",
    "        tong = tong + 2*i\n",
    "    return tong\n",
    "\n",
    "def TinhTongCacSoLe(n):\n",
    "    tong = 0\n",
    "    for i in range(1, n , 1):\n",
    "        if i % 2 != 0:\n",
    "            tong = tong + i\n",
    "    return tong\n",
    "\n",
    "def TinhTongCacSoChan(n):\n",
    "    tong = 0\n",
    "    for i in range(1, n , 1):\n",
    "        if i % 2 == 0:\n",
    "            tong = tong + i\n",
    "    return tong\n",
    "\n",
    "n = NhapSoTuNhien()\n",
    "print(\"Câu a) Tổng S =\", TinhTong(n))\n",
    "print(\"Câu b) Tổng các số lẻ\", TinhTongCacSoLe(n))\n",
    "print(\"Câu c) Tổng các số chẵn\", TinhTongCacSoChan(n))"
   ]
  },
  {
   "cell_type": "markdown",
   "id": "8f0d8121",
   "metadata": {},
   "source": [
    "Câu 18:"
   ]
  },
  {
   "cell_type": "code",
   "execution_count": null,
   "id": "fade800c",
   "metadata": {},
   "outputs": [],
   "source": [
    "# Tính các tổng đặc biệt\n",
    "import math\n",
    "\n",
    "def NhapSoTuNhien():\n",
    "    while True:\n",
    "        n = int(input(\"Nhập số tự nhiên (n>=0): \"))\n",
    "        if n >= 0:\n",
    "            return n\n",
    "        else:\n",
    "            print(\"Không phải số tự nhiên! Nhập lại!\")\n",
    "\n",
    "def KiemTraSoNguyenTo(n):\n",
    "    if n < 2:\n",
    "        return False\n",
    "    for i in range(2, int(math.sqrt(n)) + 1):\n",
    "        if n % i == 0:\n",
    "            return False\n",
    "    return True\n",
    "\n",
    "def TongCacSoNguyenTo(n):\n",
    "    tong = 0\n",
    "    for i in range(2, n + 1, 1):\n",
    "        if KiemTraSoNguyenTo(i):\n",
    "            tong = tong + i\n",
    "    return tong\n",
    "\n",
    "def TongCacSoThucSu(n):\n",
    "    tong = 0\n",
    "    for i in range(1, n , 1):\n",
    "        if n % i == 0:\n",
    "            tong = tong + i\n",
    "    return tong\n",
    "\n",
    "def TinhTong(n):\n",
    "    tong = 0\n",
    "    i = 12\n",
    "    for i in range(12, n + 1, 10):\n",
    "        tong = tong + i\n",
    "    if i == n:\n",
    "        return tong\n",
    "    else:\n",
    "        return tong + n\n",
    "\n",
    "n = NhapSoTuNhien()\n",
    "print(\"Câu a) Tổng các số nguyên tố từ 1 đến n là:\", TongCacSoNguyenTo(n))\n",
    "print(\"Câu b) Tổng các ước số thực sự của n là:\", TongCacSoThucSu(n))\n",
    "print(\"Câu c) Tổng các số có dạng 12 + 22 + 32 + ... + n là:\", TinhTong(n))"
   ]
  },
  {
   "cell_type": "markdown",
   "id": "5bd45333",
   "metadata": {},
   "source": [
    "Câu 19:"
   ]
  },
  {
   "cell_type": "code",
   "execution_count": null,
   "id": "fa149ff4",
   "metadata": {},
   "outputs": [],
   "source": [
    "#Viết chương trình thực hiện các yêu cầu sau:\n",
    "import math\n",
    "\n",
    "def KiemTraSoNguyenTo(n):\n",
    "    if n < 2:\n",
    "        return False\n",
    "    for i in range(2, int(math.sqrt(n)) + 1):\n",
    "        if n % i == 0:\n",
    "            return False\n",
    "    return True\n",
    "\n",
    "def NhapSoTuNhien():\n",
    "    while True:\n",
    "        n = int(input())\n",
    "        if n >= 0:\n",
    "            return n\n",
    "        else:\n",
    "            print(\"Không phải số tự nhiên! Nhập lại!\")\n",
    "\n",
    "def TinhTong(n):\n",
    "    tong = 0\n",
    "    for i in range(1, n + 1, 1):\n",
    "        tong = tong + i\n",
    "    return tong\n",
    "\n",
    "def KiemTra2SoNguyenTo(m, n):\n",
    "    if KiemTraSoNguyenTo(m) and KiemTraSoNguyenTo(n):\n",
    "        print(\"Hai số ngày là hai số nguyên tố cùng nhau\")\n",
    "    else:\n",
    "        print(\"Hai số này không phải là hai số nguyên tố cùng nhau\")\n",
    "\n",
    "def TinhGioGiayPhut(s):\n",
    "    gio = s // 3600\n",
    "    phut = (s % 3600) // 60\n",
    "    giay = s % 60\n",
    "    print(f\"{s} giây = {gio} giờ, {phut} phút, {giay} giây\")\n",
    "\n",
    "def TinhGiaTriTuyetDoi(a, b):\n",
    "    return abs(a - b)\n",
    "\n",
    "print(\"--Câu a)\")\n",
    "print(\"Nhập số tự nhiên n:\")\n",
    "n = NhapSoTuNhien()\n",
    "print(\"Tổng các số từ 1 đến n là:\", TinhTong(n))\n",
    "\n",
    "print(\"\\n--Câu b)\")\n",
    "print(\"Nhập hai số tự nhiên m:\")\n",
    "m1 = NhapSoTuNhien()\n",
    "print(\"Nhập số tự nhiên n:\")\n",
    "m2 = NhapSoTuNhien()\n",
    "KiemTra2SoNguyenTo(m1, m2)\n",
    "\n",
    "print(\"\\n--Câu c)\")\n",
    "s = int(input(\"Nhập số giây: \"))\n",
    "TinhGioGiayPhut(s)\n",
    "\n",
    "print(\"\\n--Câu d)\")\n",
    "a = float(input(\"Nhập số thực a: \"))\n",
    "b = float(input(\"Nhập số thực b: \"))\n",
    "print(\"Giá trị tuyệt đối của |a - b| là:\", TinhGiaTriTuyetDoi(a, b))"
   ]
  },
  {
   "cell_type": "markdown",
   "id": "28c651b6",
   "metadata": {},
   "source": [
    "Câu 20:"
   ]
  },
  {
   "cell_type": "code",
   "execution_count": null,
   "id": "cdc5fe7c",
   "metadata": {},
   "outputs": [],
   "source": [
    "# Viết hàm f(m,n) trong đó m, n là hai số tự nhiên dương. Hàm trả về số nguyên tố lớn nhất\n",
    "import math\n",
    "\n",
    "def NhapSoTuNhien():\n",
    "    while True:\n",
    "        n = int(input())\n",
    "        if n >= 0:\n",
    "            return n\n",
    "        else:\n",
    "            print(\"Không phải số tự nhiên! Nhập lại!\")\n",
    "\n",
    "def KiemTraSoNguyenTo(n):\n",
    "    if n < 2:\n",
    "        return False\n",
    "    for i in range(2, int(math.sqrt(n)) + 1):\n",
    "        if n % i == 0:\n",
    "            return False\n",
    "    return True\n",
    "\n",
    "def f(m,n):\n",
    "    ucln = math.gcd(m,n)\n",
    "\n",
    "    if ucln <= 1:\n",
    "        return 0\n",
    "    \n",
    "    NguyenTo_LonNhat = 0\n",
    "    for i in range(2, ucln + 1, 1):\n",
    "        if ucln % i == 0 and KiemTraSoNguyenTo(i):\n",
    "            NguyenTo_LonNhat = i\n",
    "    \n",
    "    return NguyenTo_LonNhat\n",
    "    \n",
    "print(\"Nhập số tự nhiên m:\")\n",
    "m = NhapSoTuNhien()\n",
    "print(\"Nhập số tự nhiên n:\")\n",
    "n = NhapSoTuNhien()\n",
    "\n",
    "print(\"Kết quả f(m,n) =\", f(m,n))1\n"
   ]
  }
 ],
 "metadata": {
  "kernelspec": {
   "display_name": "Python 3",
   "language": "python",
   "name": "python3"
  },
  "language_info": {
   "codemirror_mode": {
    "name": "ipython",
    "version": 3
   },
   "file_extension": ".py",
   "mimetype": "text/x-python",
   "name": "python",
   "nbconvert_exporter": "python",
   "pygments_lexer": "ipython3",
   "version": "3.9.2"
  }
 },
 "nbformat": 4,
 "nbformat_minor": 5
}
