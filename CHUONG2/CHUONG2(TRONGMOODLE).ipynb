{
 "cells": [
  {
   "cell_type": "markdown",
   "id": "f484fb7f",
   "metadata": {},
   "source": [
    "Bài Tập: CHƯƠNG 2 TRONG MOODLE\n"
   ]
  },
  {
   "cell_type": "markdown",
   "id": "ec822fa9",
   "metadata": {},
   "source": [
    "Câu 1:"
   ]
  },
  {
   "cell_type": "code",
   "execution_count": null,
   "id": "0d37f65d",
   "metadata": {},
   "outputs": [],
   "source": [
    "#Tính chu vi và diện tích hình tròn\n",
    "import math\n",
    "try:\n",
    "    r  = float(input(\"Nhập bán kính hình tròn: \"))\n",
    "    cv = 2 * math.pi * r\n",
    "    dt = math.pi * r * r\n",
    "    print(\"Chu vi hình tròn là: \", cv)\n",
    "    print(\"Diện tích hình tròn là: \", dt)\n",
    "except:\n",
    "    print(\"Lỗi rồi!\")"
   ]
  },
  {
   "cell_type": "markdown",
   "id": "4f9f1a05",
   "metadata": {},
   "source": [
    "Câu 2:"
   ]
  },
  {
   "cell_type": "code",
   "execution_count": null,
   "id": "c2b2b9e9",
   "metadata": {},
   "outputs": [],
   "source": [
    "# Tính giờ phút giây\n",
    "t = int(input(\"Nhập số giây: \"))\n",
    "gio = (t//3600) % 24\n",
    "phut = (t % 3600) // 60\n",
    "giay = t % 60\n",
    "print(gio, \"giờ\", phut, \"phút\", giay,\"giây\")"
   ]
  },
  {
   "cell_type": "markdown",
   "id": "ae45a22c",
   "metadata": {},
   "source": [
    "Câu 3:"
   ]
  },
  {
   "cell_type": "code",
   "execution_count": null,
   "id": "9415195b",
   "metadata": {},
   "outputs": [],
   "source": [
    "#Chương trình tính điểm trung bình ba môn Toán, Lý Hóa\n",
    "toan = float(input(\"Nhập điểm môn Toán: \"))\n",
    "ly = float(input(\"Nhập điểm môn Lý: \"))\n",
    "hoa = float(input(\"Nhập điểm môn Hóa: \"))\n",
    "dtb = (toan + ly + hoa) / 3\n",
    "print(\"Điểm trung bình ba môn là:\", dtb)\n",
    "print(\"Điểm trung bình ba môn là:\", round(dtb, 2))"
   ]
  },
  {
   "cell_type": "markdown",
   "id": "867aa7bc",
   "metadata": {},
   "source": [
    "Câu 4:"
   ]
  },
  {
   "cell_type": "code",
   "execution_count": null,
   "id": "b8cb1b9f",
   "metadata": {},
   "outputs": [],
   "source": [
    "# Các kiểu dữ liệu cơ bản trong Python\n",
    "# - int (số nguyên)\n",
    "# - float (số thực)\n",
    "# - complex (số phức)\n",
    "# - bool (đúng/sai)\n",
    "# - str (chuỗi ký tự)\n",
    "# - list (danh sách)\n",
    "# - tuple (bộ giá trị)\n",
    "# - set (tập hợp)\n",
    "# - dict (từ điển - cặp key:value)\n",
    "\n",
    "a = 10        # int\n",
    "b = 3.14      # float\n",
    "c = 2 + 3j    # complex\n",
    "d = True      # bool\n",
    "e = \"Hello\"   # str\n",
    "f = [1,2,3]   # list\n",
    "g = (1,2,3)   # tuple\n",
    "h = {1,2,3}   # set\n",
    "i = {\"a\":1, \"b\":2}  # dict"
   ]
  },
  {
   "cell_type": "markdown",
   "id": "9ef8901c",
   "metadata": {},
   "source": [
    "Câu 5:"
   ]
  },
  {
   "cell_type": "code",
   "execution_count": null,
   "id": "2e945b2d",
   "metadata": {},
   "outputs": [],
   "source": [
    "# Trình bày các loại ghi chú trong Python.\n",
    "# - Ghi chú 1 dòng: dùng ký hiệu #\n",
    "# - Ghi chú nhiều dòng: dùng chuỗi \"\"\"...\"\"\" hoặc '''...'''\n",
    "\n",
    "# Đây là ghi chú 1 dòng\n",
    "\"\"\"\n",
    "Đây là\n",
    "ghi chú\n",
    "nhiều dòng\n",
    "\"\"\""
   ]
  },
  {
   "cell_type": "markdown",
   "id": "44c54d80",
   "metadata": {},
   "source": [
    "Câu 6:"
   ]
  },
  {
   "cell_type": "code",
   "execution_count": null,
   "id": "a8726da1",
   "metadata": {},
   "outputs": [],
   "source": [
    "# Trình bày ý nghĩa toán tử /, //, %, **, and, or, is.\n",
    "x, y = 7, 3\n",
    "print(x / y)   # / : chia thực (kết quả float) -> 2.333...\n",
    "print(x // y)  # //: chia lấy phần nguyên -> 2\n",
    "print(x % y)   # % : chia lấy dư -> 1\n",
    "print(x ** y)  # **: lũy thừa -> 7^3 = 343\n",
    "print(True and False) # and: logic AND -> False\n",
    "print(True or False)  # or : logic OR -> True\n",
    "print(x is y)  # is : so sánh 2 biến có cùng tham chiếu không"
   ]
  },
  {
   "cell_type": "markdown",
   "id": "ce577050",
   "metadata": {},
   "source": [
    "Câu 7:"
   ]
  },
  {
   "cell_type": "code",
   "execution_count": null,
   "id": "e80965f7",
   "metadata": {},
   "outputs": [],
   "source": [
    "# Trình bày một số cách nhập dữ liệu từ bàn phím.\n",
    "# input() luôn trả về kiểu str, cần ép kiểu nếu cần số.\n",
    "name = input(\"Nhập tên: \")\n",
    "age = int(input(\"Nhập tuổi: \"))\n",
    "score = float(input(\"Nhập điểm: \"))\n",
    "print(\"Tên:\", name, \"- Tuổi:\", age, \"- Điểm:\", score)"
   ]
  },
  {
   "cell_type": "markdown",
   "id": "db6b94c0",
   "metadata": {},
   "source": [
    "Câu 8:"
   ]
  },
  {
   "cell_type": "code",
   "execution_count": null,
   "id": "168a69b2",
   "metadata": {},
   "outputs": [],
   "source": [
    "# Trình bày các loại lỗi khi lập trình và cách bắt lỗi trong Python.\n",
    "# - SyntaxError: sai cú pháp\n",
    "# - NameError: dùng biến chưa khai báo\n",
    "# - TypeError: sai kiểu dữ liệu\n",
    "# - ValueError: giá trị không hợp lệ\n",
    "# - ZeroDivisionError: chia cho 0\n",
    "# Có thể bắt lỗi bằng try-except\n",
    "\n",
    "try:\n",
    "    a = int(\"abc\")  # gây ValueError\n",
    "except ValueError:\n",
    "    print(\"Lỗi: không thể chuyển đổi chuỗi thành số nguyên\")"
   ]
  },
  {
   "cell_type": "markdown",
   "id": "f69ca8d9",
   "metadata": {},
   "source": [
    "Câu 9:"
   ]
  },
  {
   "cell_type": "code",
   "execution_count": null,
   "id": "82377246",
   "metadata": {},
   "outputs": [],
   "source": [
    "i1, i2, i3 = 2, 5, -3\n",
    "d1, d2, d3 = 2.0, 5.0, -0.5\n",
    "\n",
    "print(i1 + (i2 * i3))     # a) 2 + (5 * -3) = -13\n",
    "print(i1 * (i2 + i3))     # b) 2 * (5 + -3) = 4\n",
    "print(i1 / (i2 + i3))     # c) 2 / (5 + -3) = 1.0\n",
    "print(i1 // (i2 + i3))    # d) 2 // 2 = 1\n",
    "print(i1 / i2 + i3)       # e) (2/5) + (-3) = -2.6\n",
    "print(i1 // i2 + i3)      # f) (0) + (-3) = -3\n",
    "print(3 + 4 + 5 / 3)      # g) 3+4+(5/3)=8.666...\n",
    "print(3 + 4 + 5 // 3)     # h) 3+4+(1)=8\n",
    "print((3 + 4 + 5) / 3)    # i) 12/3=4.0\n",
    "print((3 + 4 + 5) // 3)   # j) 12//3=4\n",
    "print(d1 + (d2 * d3))     # k) 2.0 + (5.0 * -0.5) = -0.5\n",
    "print(d1 + d2 * d3)       # l) giống k, do ưu tiên * trước + = -0.5\n",
    "print(d1 / d2 - d3)       # m) (2/5) - (-0.5) = 0.9\n",
    "print(d1 / (d2 - d3))     # n) 2 / (5 - -0.5) = 0.3636...\n",
    "print(d1 + d2 + d3 / 3)   # o) 2+5+(-0.5/3)=6.833...\n",
    "print((d1 + d2 + d3) / 3) # p) (2+5-0.5)/3=2.166...\n",
    "print(d1 + d2 + (d3 / 3)) # q) 2+5+(-0.5/3)=6.833..\n",
    "print(3 * (d1 + d2) * (d1 - d3)) # r) 3*(7.0)*(2.5)=52.5"
   ]
  },
  {
   "cell_type": "markdown",
   "id": "9ac95cfc",
   "metadata": {},
   "source": [
    "Câu 10:"
   ]
  },
  {
   "cell_type": "code",
   "execution_count": 4,
   "id": "7e6a361a",
   "metadata": {},
   "outputs": [
    {
     "data": {
      "text/plain": [
       "{'cells': [{'cell_type': 'code',\n",
       "   'metadata': {'id': '#VSC-0492c5a1', 'language': 'python'},\n",
       "   'source': ['# (a) x = x + 1',\n",
       "    'x += 1',\n",
       "    '',\n",
       "    '# (b) x = x / 2',\n",
       "    'x /= 2',\n",
       "    '',\n",
       "    '# (c) x = x - 1',\n",
       "    'x -= 1',\n",
       "    '',\n",
       "    '# (d) x = x + y',\n",
       "    'x += y',\n",
       "    '',\n",
       "    '# (e) x = x - (y + 7)',\n",
       "    'x -= (y + 7)',\n",
       "    '',\n",
       "    '# (f) x = 2 * x',\n",
       "    'x *= 2',\n",
       "    '',\n",
       "    '# (g) number_of_closed_cases = number_of_closed_cases + 2 * ncc',\n",
       "    'number_of_closed_cases += 2 * ncc']}]}"
      ]
     },
     "execution_count": 4,
     "metadata": {},
     "output_type": "execute_result"
    }
   ],
   "source": [
    "{\n",
    "  \"cells\": [\n",
    "    {\n",
    "      \"cell_type\": \"code\",\n",
    "      \"metadata\": {\n",
    "        \"id\": \"#VSC-0492c5a1\",\n",
    "        \"language\": \"python\"\n",
    "      },\n",
    "      \"source\": [\n",
    "        \"# (a) x = x + 1\",\n",
    "        \"x += 1\",\n",
    "        \"\",\n",
    "        \"# (b) x = x / 2\",\n",
    "        \"x /= 2\",\n",
    "        \"\",\n",
    "        \"# (c) x = x - 1\",\n",
    "        \"x -= 1\",\n",
    "        \"\",\n",
    "        \"# (d) x = x + y\",\n",
    "        \"x += y\",\n",
    "        \"\",\n",
    "        \"# (e) x = x - (y + 7)\",\n",
    "        \"x -= (y + 7)\",\n",
    "        \"\",\n",
    "        \"# (f) x = 2 * x\",\n",
    "        \"x *= 2\",\n",
    "        \"\",\n",
    "        \"# (g) number_of_closed_cases = number_of_closed_cases + 2 * ncc\",\n",
    "        \"number_of_closed_cases += 2 * ncc\"\n",
    "      ]\n",
    "    }\n",
    "  ]\n",
    "}"
   ]
  }
 ],
 "metadata": {
  "kernelspec": {
   "display_name": "Python 3",
   "language": "python",
   "name": "python3"
  },
  "language_info": {
   "codemirror_mode": {
    "name": "ipython",
    "version": 3
   },
   "file_extension": ".py",
   "mimetype": "text/x-python",
   "name": "python",
   "nbconvert_exporter": "python",
   "pygments_lexer": "ipython3",
   "version": "3.9.2"
  }
 },
 "nbformat": 4,
 "nbformat_minor": 5
}
