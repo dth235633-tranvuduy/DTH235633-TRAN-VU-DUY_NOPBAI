{
 "cells": [
  {
   "cell_type": "markdown",
   "id": "09c34e7f",
   "metadata": {},
   "source": [
    "Bai 1:\n"
   ]
  },
  {
   "cell_type": "code",
   "execution_count": 3,
   "id": "deef14b9",
   "metadata": {},
   "outputs": [
    {
     "name": "stdout",
     "output_type": "stream",
     "text": [
      "Chương trình kiểm tra năm nhuần\n",
      "Năm  12  là năm nhuần\n"
     ]
    }
   ],
   "source": [
    "print(\"Chương trình kiểm tra năm nhuần\")\n",
    "year=int(input(\"Mời Thím nhập vào 1 năm:\"))\n",
    "if (year % 4 ==0 and year % 100 != 0) or year % 400 == 0:\n",
    " print(\"Năm \", year, \" là năm nhuần\")\n",
    "else:\n",
    " print(\"Năm \", year, \" không nhuần\")"
   ]
  },
  {
   "cell_type": "markdown",
   "id": "d52f0d69",
   "metadata": {},
   "source": [
    "Bai 2:\n"
   ]
  },
  {
   "cell_type": "code",
   "execution_count": null,
   "id": "cabf3330",
   "metadata": {},
   "outputs": [],
   "source": [
    "print(\"Chương trình đếm số ngày trong tháng\")\n",
    "month = int(input(\"Nhập vào 1 tháng:\"))\n",
    "if month in (1, 3, 5, 7, 8, 10, 12):\n",
    "    print(\"Tháng\", month, \"có 31 ngày\")\n",
    "elif month in (4, 6, 9, 11):\n",
    "    print(\"Tháng\", month, \"có 30 ngày\")\n",
    "elif month == 2:\n",
    "    year = int(input(\"Mời bạn nhập vào năm:\"))\n",
    "    if (year % 4 == 0 and year % 100 != 0) or year % 400 == 0:\n",
    "        print(\"Tháng\", month, \"có 29 ngày\")\n",
    "    else:\n",
    "        print(\"Tháng\", month, \"có 28 ngày\")\n",
    "else:\n",
    "    print(\"Tháng\", month, \"không hợp lệ\")"
   ]
  },
  {
   "cell_type": "markdown",
   "id": "6d091880",
   "metadata": {},
   "source": [
    "Bai 3:"
   ]
  },
  {
   "cell_type": "code",
   "execution_count": 4,
   "id": "b179ca08",
   "metadata": {},
   "outputs": [
    {
     "name": "stdout",
     "output_type": "stream",
     "text": [
      "Chương trình giải phương trình bậc 2\n",
      "Phương trình có hai nghiệm phân biệt: x1 = -0.18566651061176956 , x2 = -0.8976668227215638\n"
     ]
    }
   ],
   "source": [
    "print(\"Chương trình giải phương trình bậc 2\")\n",
    "a = float(input(\"Nhập hệ số a: \"))\n",
    "b = float(input(\"Nhập hệ số b: \")) \n",
    "c = float(input(\"Nhập hệ số c: \"))\n",
    "if a == 0:\n",
    "    if b == 0:\n",
    "        if c == 0:\n",
    "            print(\"Phương trình vô số nghiệm\")\n",
    "        else:\n",
    "            print(\"Phương trình vô nghiệm\")\n",
    "    else:\n",
    "        x = -c / b\n",
    "        print(\"Phương trình có một nghiệm: x =\", x) \n",
    "else:\n",
    "    delta = b**2 - 4*a*c\n",
    "    if delta < 0:\n",
    "        print(\"Phương trình vô nghiệm\")\n",
    "    elif delta == 0:\n",
    "        x = -b / (2*a)\n",
    "        print(\"Phương trình có nghiệm kép: x1 = x2 =\", x)\n",
    "    else:\n",
    "        x1 = (-b + delta**0.5) / (2*a)\n",
    "        x2 = (-b - delta**0.5) / (2*a)\n",
    "        print(\"Phương trình có hai nghiệm phân biệt: x1 =\", x1, \", x2 =\", x2)   "
   ]
  },
  {
   "cell_type": "markdown",
   "id": "d1d8ff67",
   "metadata": {},
   "source": [
    "Bai 4:\n"
   ]
  },
  {
   "cell_type": "code",
   "execution_count": 1,
   "id": "eda4a818",
   "metadata": {},
   "outputs": [
    {
     "name": "stdout",
     "output_type": "stream",
     "text": [
      "(a) True\n",
      "(b) True\n",
      "(c) False\n",
      "(d) True\n",
      "(e) False\n",
      "(f) True\n",
      "(g) True\n",
      "(h) False\n",
      "(i) False\n",
      "(j) True\n",
      "(k) True\n",
      "(l) False\n"
     ]
    }
   ],
   "source": [
    "# Kiểm tra giá trị các biểu thức điều kiện với x=3, y=5, z=7\n",
    "x = 3\n",
    "y = 5\n",
    "z = 7\n",
    "print('(a)', x == 3)\n",
    "print('(b)', x < y)\n",
    "print('(c)', x >= y)\n",
    "print('(d)', x <= y)\n",
    "print('(e)', x != y - 2)\n",
    "print('(f)', x < 10)\n",
    "print('(g)', x >= 0 and x < 10)\n",
    "print('(h)', x < 0 and x < 10)\n",
    "print('(i)', x >= 0 and x < 2)\n",
    "print('(j)', x < 0 or x < 10)\n",
    "print('(k)', x > 0 or x < 10)\n",
    "print('(l)', x < 0 or x > 10)"
   ]
  },
  {
   "cell_type": "markdown",
   "id": "580376bf",
   "metadata": {},
   "source": [
    "Bai 5:"
   ]
  },
  {
   "cell_type": "code",
   "execution_count": 2,
   "id": "6e257a75",
   "metadata": {},
   "outputs": [
    {
     "name": "stdout",
     "output_type": "stream",
     "text": [
      "Case a) i = 3, j = 5, k = 7  =>  i = 5 , j = 5 , k = 7\n",
      "Case b) i = 3, j = 7, k = 5  =>  i = 3 , j = 5 , k = 5\n",
      "Case c) i = 5, j = 3, k = 7  =>  i = 7 , j = 3 , k = 7\n",
      "Case d) i = 5, j = 7, k = 3  =>  i = 5 , j = 3 , k = 3\n",
      "Case e) i = 7, j = 3, k = 5  =>  i = 5 , j = 3 , k = 5\n",
      "Case f) i = 7, j = 5, k = 3  =>  i = 7 , j = 7 , k = 3\n"
     ]
    }
   ],
   "source": [
    "# Kiểm tra kết quả của đoạn lệnh if cho các trường hợp (a)-(f)\n",
    "cases = [\n",
    "    (3, 5, 7),\n",
    "    (3, 7, 5),\n",
    "    (5, 3, 7),\n",
    "    (5, 7, 3),\n",
    "    (7, 3, 5),\n",
    "    (7, 5, 3)\n",
    " ]\n",
    "for idx, (i0, j0, k0) in enumerate(cases, start=1):\n",
    "    i, j, k = i0, j0, k0\n",
    "    if i < j:\n",
    "        if j < k:\n",
    "            i = j\n",
    "        else:\n",
    "            j = k\n",
    "    else:\n",
    "        if j > k:\n",
    "            j = i\n",
    "        else:\n",
    "            i = k\n",
    "    print(f\"Case {chr(96+idx)}) i = {i0}, j = {j0}, k = {k0}  =>  i =\", i, \", j =\", j, \", k =\", k)"
   ]
  },
  {
   "cell_type": "markdown",
   "id": "c58f1bec",
   "metadata": {},
   "source": [
    "Bai 6:"
   ]
  },
  {
   "cell_type": "code",
   "execution_count": 9,
   "id": "622b3432",
   "metadata": {},
   "outputs": [
    {
     "name": "stdout",
     "output_type": "stream",
     "text": [
      "Cách đọc: Năm\n"
     ]
    }
   ],
   "source": [
    "def doc_so(n: int) -> str:\n",
    "    don_vi = [\"\", \"một\", \"hai\", \"ba\", \"bốn\", \"năm\",\n",
    "              \"sáu\", \"bảy\", \"tám\", \"chín\"]\n",
    "    chuc = [\"\", \"mười\", \"hai mươi\", \"ba mươi\", \"bốn mươi\",\n",
    "            \"năm mươi\", \"sáu mươi\", \"bảy mươi\", \"tám mươi\", \"chín mươi\"]\n",
    "\n",
    "    if n < 0 or n > 99:\n",
    "        return \"Chỉ hỗ trợ số từ 0 đến 99\"\n",
    "\n",
    "    if n == 0:\n",
    "        return \"không\"\n",
    "\n",
    "    if n < 10:\n",
    "        result = don_vi[n]\n",
    "    else:\n",
    "        hang_chuc = n // 10\n",
    "        hang_dv = n % 10\n",
    "\n",
    "        if hang_chuc == 1:  # 10 → 19\n",
    "            if hang_dv == 0:\n",
    "                result = \"mười\"\n",
    "            elif hang_dv == 5:\n",
    "                result = \"mười lăm\"\n",
    "            else:\n",
    "                result = \"mười \" + don_vi[hang_dv]\n",
    "        else:  # 20 → 99\n",
    "            if hang_dv == 0:\n",
    "                result = chuc[hang_chuc]\n",
    "            elif hang_dv == 1:\n",
    "                result = chuc[hang_chuc] + \" mốt\"\n",
    "            elif hang_dv == 5:\n",
    "                result = chuc[hang_chuc] + \" lăm\"\n",
    "            else:\n",
    "                result = chuc[hang_chuc] + \" \" + don_vi[hang_dv]\n",
    "\n",
    "    # Viết hoa chữ cái đầu tiên\n",
    "    return result.capitalize()\n",
    "\n",
    "\n",
    "# --- Chương trình chính ---\n",
    "n = int(input(\"Nhập số nguyên n (0 - 99): \"))\n",
    "print(\"Cách đọc:\", doc_so(n))\n"
   ]
  },
  {
   "cell_type": "markdown",
   "id": "467c474d",
   "metadata": {},
   "source": [
    "Bai 7:"
   ]
  },
  {
   "cell_type": "code",
   "execution_count": 11,
   "id": "b44f9611",
   "metadata": {},
   "outputs": [
    {
     "name": "stdout",
     "output_type": "stream",
     "text": [
      "Ngày kế tiếp là: 22/11/2005\n"
     ]
    }
   ],
   "source": [
    "from datetime import date, timedelta\n",
    "\n",
    "# Nhập dữ liệu\n",
    "ngay = int(input(\"Nhập ngày: \"))\n",
    "thang = int(input(\"Nhập tháng: \"))\n",
    "nam = int(input(\"Nhập năm: \"))\n",
    "\n",
    "try:\n",
    "    d = date(nam, thang, ngay)\n",
    "    ngay_ke_tiep = d + timedelta(days=1)\n",
    "    print(\"Ngày kế tiếp là: {}/{}/{}\".format(\n",
    "        ngay_ke_tiep.day, ngay_ke_tiep.month, ngay_ke_tiep.year))\n",
    "except ValueError:\n",
    "    print(\"Ngày tháng năm không hợp lệ!\")\n"
   ]
  },
  {
   "cell_type": "markdown",
   "id": "da094883",
   "metadata": {},
   "source": [
    "Bai 8:"
   ]
  },
  {
   "cell_type": "code",
   "execution_count": 12,
   "id": "6e19919e",
   "metadata": {},
   "outputs": [
    {
     "name": "stdout",
     "output_type": "stream",
     "text": [
      "Kết quả: 35.0\n"
     ]
    }
   ],
   "source": [
    "# Nhập dữ liệu\n",
    "a = float(input(\"Nhập số a: \"))\n",
    "b = float(input(\"Nhập số b: \"))\n",
    "pheptoan = input(\"Nhập phép toán (+, -, *, /): \")\n",
    "\n",
    "# Xử lý\n",
    "if pheptoan == \"+\":\n",
    "    kq = a + b\n",
    "elif pheptoan == \"-\":\n",
    "    kq = a - b\n",
    "elif pheptoan == \"*\":\n",
    "    kq = a * b\n",
    "elif pheptoan == \"/\":\n",
    "    if b != 0:\n",
    "        kq = a / b\n",
    "    else:\n",
    "        kq = \"Lỗi: Không thể chia cho 0\"\n",
    "else:\n",
    "    kq = \"Phép toán không hợp lệ!\"\n",
    "\n",
    "# Xuất kết quả\n",
    "print(\"Kết quả:\", kq)\n"
   ]
  },
  {
   "cell_type": "markdown",
   "id": "d29485d8",
   "metadata": {},
   "source": [
    "Bai 9:\n"
   ]
  },
  {
   "cell_type": "code",
   "execution_count": 13,
   "id": "d0eb79e3",
   "metadata": {},
   "outputs": [
    {
     "name": "stdout",
     "output_type": "stream",
     "text": [
      "Tháng 11 thuộc quý 4\n"
     ]
    }
   ],
   "source": [
    "# Nhập tháng\n",
    "thang = int(input(\"Nhập tháng (1-12): \"))\n",
    "\n",
    "# Kiểm tra\n",
    "if thang < 1 or thang > 12:\n",
    "    print(\"Tháng không hợp lệ!\")\n",
    "else:\n",
    "    if 1 <= thang <= 3:\n",
    "        quy = 1\n",
    "    elif 4 <= thang <= 6:\n",
    "        quy = 2\n",
    "    elif 7 <= thang <= 9:\n",
    "        quy = 3\n",
    "    else:\n",
    "        quy = 4\n",
    "\n",
    "    print(f\"Tháng {thang} thuộc quý {quy}\")\n"
   ]
  },
  {
   "cell_type": "markdown",
   "id": "6d11989f",
   "metadata": {},
   "source": [
    "Bai 10:"
   ]
  },
  {
   "cell_type": "code",
   "execution_count": null,
   "id": "17141917",
   "metadata": {},
   "outputs": [],
   "source": [
    "x=int(input(\"Nhập x:\"))\n",
    "n=int(input(\"Nhập N:\"))\n",
    "s=0\n",
    "for i in range(1,n+1):\n",
    "     tu=x**i\n",
    "     mau=1\n",
    "     for j in range(1,i+1):\n",
    "         mau=mau*j\n",
    "     s=s+(tu/mau)\n",
    "print(\"s({0},{1})={2}\".format(x,n,s))"
   ]
  },
  {
   "cell_type": "markdown",
   "id": "c7ddbf45",
   "metadata": {},
   "source": [
    "Bai 11:\n"
   ]
  },
  {
   "cell_type": "code",
   "execution_count": 17,
   "id": "4ef092b4",
   "metadata": {},
   "outputs": [
    {
     "name": "stderr",
     "output_type": "stream",
     "text": [
      "<>:12: SyntaxWarning: \"is\" with a literal. Did you mean \"==\"?\n",
      "<>:12: SyntaxWarning: \"is\" with a literal. Did you mean \"==\"?\n",
      "C:\\Users\\Acer\\AppData\\Local\\Temp\\ipykernel_6620\\1957287955.py:12: SyntaxWarning: \"is\" with a literal. Did you mean \"==\"?\n",
      "  if hoi is \"k\":\n"
     ]
    },
    {
     "name": "stdout",
     "output_type": "stream",
     "text": [
      "1 không phải số nguyên tố\n",
      "Chương trình kết thúc\n",
      "Chương trình kết thúc\n"
     ]
    }
   ],
   "source": [
    "while True:\n",
    "      n=int(input(\"Nhập 1 số nguyên dương\"))\n",
    "      dem=0\n",
    "      for i in range(1,n+1):\n",
    "        if n%i==0:\n",
    "            dem=dem+1\n",
    "      if dem==2:\n",
    "          print(n,\"là số nguyên tố\") \n",
    "      else:\n",
    "        print(n,\"không phải số nguyên tố\")\n",
    "      hoi= input(\"Bạn có muốn tiếp tục không (c/k)? \")\n",
    "      if hoi is \"k\":\n",
    "        break\n",
    "print(\"Chương trình kết thúc\")"
   ]
  },
  {
   "cell_type": "markdown",
   "id": "5434e68b",
   "metadata": {},
   "source": [
    "Bai 12:"
   ]
  },
  {
   "cell_type": "code",
   "execution_count": null,
   "id": "e88e9b2e",
   "metadata": {},
   "outputs": [],
   "source": [
    "for i in range(1,11):\n",
    "  for j in range(2,10):\n",
    "    line=\"{0}*{1:>2}={2:>2}\".format(j,i,i*j)\n",
    "    print(line,end='\\t')\n",
    "  print()"
   ]
  },
  {
   "cell_type": "markdown",
   "id": "9b5a435c",
   "metadata": {},
   "source": [
    "Bai 13:"
   ]
  },
  {
   "cell_type": "code",
   "execution_count": 32,
   "id": "6eadb73a",
   "metadata": {},
   "outputs": [
    {
     "name": "stdout",
     "output_type": "stream",
     "text": [
      "****************************************************************************************************\n",
      "Tổng số dấu * đã in: 100\n"
     ]
    }
   ],
   "source": [
    "a = 0\n",
    "count = 0   # biến đếm số dấu sao\n",
    "\n",
    "while a < 100:  # lặp đến khi a bằng 100\n",
    "    print(\"*\", end='')   # in dấu sao\n",
    "    count += 1           # tăng biến đếm\n",
    "    a += 1\n",
    "\n",
    "print(\"\\nTổng số dấu * đã in:\", count)\n",
    "#KQ: Tổng số dấu * đã in: 100"
   ]
  },
  {
   "cell_type": "markdown",
   "id": "d92495d5",
   "metadata": {},
   "source": [
    "Bai 14:"
   ]
  },
  {
   "cell_type": "code",
   "execution_count": null,
   "id": "83fcaf5d",
   "metadata": {},
   "outputs": [],
   "source": [
    "a = 0\n",
    "while a < 100:\n",
    "    b = 0\n",
    "    while b < 40:\n",
    "        if (a + b) % 2 == 0:\n",
    "            print('*', end='')\n",
    "        b += 1\n",
    "    print()\n",
    "    count += 1\n",
    "    a += 1\n",
    "    print(\"\\nTổng số dấu * đã in:\", count)\n",
    "    #KQ: Tổng số dấu * đã in: 299\n"
   ]
  },
  {
   "cell_type": "markdown",
   "id": "b27fe945",
   "metadata": {},
   "source": [
    "Bai 15:\n",
    "(a) range(5)\n",
    "Tương đương range(0, 5, 1) → tạo các số 0,1,2,3,4. Dài 5 phần tử.\n",
    "\n",
    "(b) range(5, 10)\n",
    "Từ 5 đến trước 10, bước 1 → 5,6,7,8,9. Dài 5 phần tử.\n",
    "\n",
    "(c) range(5, 20, 3)\n",
    "Bắt đầu 5, cộng 3 mỗi lần cho đến < 20 → 5,8,11,14,17.\n",
    "\n",
    "(d) range(20, 5, -1)\n",
    "Bắt đầu 20, trừ 1 mỗi lần, dừng khi ≤ 5 → 20,19,18,…,6.\n",
    "\n",
    "(e) range(20, 5, -3)\n",
    "Bắt đầu 20, trừ 3 mỗi lần, dừng khi ≤ 5 → 20,17,14,11,8.\n",
    "\n",
    "(f) range(10, 5)\n",
    "Bước mặc định +1 nhưng start > stop nên không thể tiến tới stop → dãy rỗng [].\n",
    "\n",
    "(g) range(0)\n",
    "Tương đương range(0, 0, 1) → không có phần tử → [].\n",
    "\n",
    "(h) range(10, 101, 10)\n",
    "Từ 10 đến trước 101, bước 10 → 10,20,30,…,100.\n",
    "\n",
    "(i) range(10, -1, -1)\n",
    "Từ 10 giảm 1 cho đến > -1 → 10,9,8,…,0.\n",
    "\n",
    "(j) range(-3, 4)\n",
    "Từ -3 đến trước 4, bước 1 → -3,-2,-1,0,1,2,3.\n",
    "\n",
    "(k) range(0, 10, 1)\n",
    "Từ 0 đến trước 10, bước 1 → 0,1,2,3,4,5,6,7,8,9. (Tương đương range(10))."
   ]
  },
  {
   "cell_type": "markdown",
   "id": "3f6cef50",
   "metadata": {},
   "source": [
    "Bai 16:"
   ]
  },
  {
   "cell_type": "code",
   "execution_count": 33,
   "id": "a4dd1a06",
   "metadata": {},
   "outputs": [
    {
     "name": "stdout",
     "output_type": "stream",
     "text": [
      "****************\n",
      "Tổng số dấu *: 16\n"
     ]
    }
   ],
   "source": [
    "count = 0\n",
    "for a in range(20, 100, 5):\n",
    "    print('*', end='')\n",
    "    count += 1\n",
    "print()  # xuống dòng\n",
    "print(\"Tổng số dấu *:\", count)\n"
   ]
  },
  {
   "cell_type": "markdown",
   "id": "7f0c51c1",
   "metadata": {},
   "source": [
    "Bai 17:"
   ]
  },
  {
   "cell_type": "code",
   "execution_count": null,
   "id": "88685255",
   "metadata": {},
   "outputs": [],
   "source": [
    "n, m = 0, 100\n",
    "while n != m:\n",
    "    n = int(input())\n",
    "    if n < 0:\n",
    "        break\n",
    "    print(\"n =\", n)\n"
   ]
  },
  {
   "cell_type": "markdown",
   "id": "db57ef28",
   "metadata": {},
   "source": [
    "Bai 18:"
   ]
  },
  {
   "cell_type": "code",
   "execution_count": 40,
   "id": "c6e89b97",
   "metadata": {},
   "outputs": [
    {
     "name": "stdout",
     "output_type": "stream",
     "text": [
      "Hình 1:\n",
      "* * * * \n",
      "*     * \n",
      "*     * \n",
      "* * * * \n",
      "\n",
      "Hình 2:\n",
      "* \n",
      "* * \n",
      "* * * \n",
      "* * * * \n",
      "\n",
      "Hình 3:\n",
      "*       \n",
      "* *     \n",
      "*   *   \n",
      "* * * * \n"
     ]
    }
   ],
   "source": [
    "n = int(input(\"Nhập chiều cao n: \"))\n",
    "\n",
    "# Hình 1: Hình chữ nhật rỗng (n x n)\n",
    "print(\"Hình 1:\")\n",
    "for i in range(n):\n",
    "    for j in range(n):\n",
    "        if i == 0 or i == n-1 or j == 0 or j == n-1:\n",
    "            print(\"*\", end=\" \")\n",
    "        else:\n",
    "            print(\" \", end=\" \")\n",
    "    print()\n",
    "\n",
    "# Hình 2: Hình tam giác cân đặc\n",
    "print(\"\\nHình 2:\")\n",
    "for i in range(1, n+1):\n",
    "    for j in range(i):\n",
    "        print(\"*\", end=\" \")\n",
    "    print()\n",
    "\n",
    "# Hình 3: Tam giác rỗng (đường chéo + cạnh đáy)\n",
    "print(\"\\nHình 3:\")\n",
    "for i in range(1, n+1):\n",
    "    for j in range(1, n+1):\n",
    "        if j == 1 or j == i or i == n:\n",
    "            print(\"*\", end=\" \")\n",
    "        else:\n",
    "            print(\" \", end=\" \")\n",
    "    print()\n"
   ]
  }
 ],
 "metadata": {
  "kernelspec": {
   "display_name": "Python 3",
   "language": "python",
   "name": "python3"
  },
  "language_info": {
   "codemirror_mode": {
    "name": "ipython",
    "version": 3
   },
   "file_extension": ".py",
   "mimetype": "text/x-python",
   "name": "python",
   "nbconvert_exporter": "python",
   "pygments_lexer": "ipython3",
   "version": "3.9.2"
  }
 },
 "nbformat": 4,
 "nbformat_minor": 5
}
